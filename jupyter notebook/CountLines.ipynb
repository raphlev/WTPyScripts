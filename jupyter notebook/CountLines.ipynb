{
 "cells": [
  {
   "cell_type": "code",
   "execution_count": 2,
   "id": "53143dc6-885e-4cdd-bc66-2a727e035e2c",
   "metadata": {},
   "outputs": [
    {
     "name": "stdout",
     "output_type": "stream",
     "text": [
      "File: D:/WTPyScripts\\csv_utilities\\export_values\\export_distinct_values.py\n",
      "File: D:/WTPyScripts\\csv_utilities\\export_values\\export_distinct_values_without_count.py\n",
      "File: D:/WTPyScripts\\csv_utilities\\export_values\\export_oldest_revisions_articles.py\n",
      "File: D:/WTPyScripts\\csv_utilities\\export_values\\export_oldest_revisions_articles_panda.py\n",
      "File: D:/WTPyScripts\\csv_utilities\\export_values\\export_oldest_revisions_documents.py\n",
      "File: D:/WTPyScripts\\csv_utilities\\match_finder\\match_finder.py\n",
      "File: D:/WTPyScripts\\csv_utilities\\part_table_taes\\extract_part_table_taes.py\n",
      "File: D:/WTPyScripts\\excel_utilities\\excel_data_anonymizer.py\n",
      "File: D:/WTPyScripts\\file_utilities\\bulk_rename_files.py\n",
      "File: D:/WTPyScripts\\file_utilities\\bulk_replace_content_in_files.py\n",
      "File: D:/WTPyScripts\\windchill\\enums\\extract_xml_enumerated_values_to_csv.py\n",
      "File: D:/WTPyScripts\\windchill\\enums\\merge_two_xml_enumerated_values.py\n",
      "File: D:/WTPyScripts\\windchill\\enums\\merge_xml_enumerated_values_with_new_entries.py\n",
      "File: D:/WTPyScripts\\windchill\\src\\ext\\lps\\common\\utils\\ReassignLCAgainstIterationNote.java\n",
      "Total number of lines in *.py or *.java files in D:/WTPyScripts: 1762\n"
     ]
    }
   ],
   "source": [
    "import os\n",
    "\n",
    "# This script will traverse all subdirectories, find Python files (*.py, *.java), \n",
    "# count the number of lines in each of them, and then sum up the total number of lines. \n",
    "# Finally, it will print the total number of lines.\n",
    "\n",
    "def count_lines_in_file(filename):\n",
    "    with open(filename, 'r') as file:\n",
    "        return sum(1 for line in file)\n",
    "\n",
    "def count_lines_in_directory(directory, exclude=[]):\n",
    "    total_lines = 0\n",
    "    try:\n",
    "        for root, dirs, files in os.walk(directory):\n",
    "            if any(ex in root or ex in dirs for ex in exclude):\n",
    "                continue  # Skip this directory and its subdirectories\n",
    "            for file in files:\n",
    "                if any(ex in file for ex in exclude):\n",
    "                    continue  # Skip this file\n",
    "                if file.endswith('.py') or file.endswith('.java'):\n",
    "                    filepath = os.path.join(root, file)\n",
    "                    total_lines += count_lines_in_file(filepath)\n",
    "                    print(f\"File: {filepath}\")\n",
    "    except Exception as e:\n",
    "        # handle exceptions for folders that the script cannot access\n",
    "        print(f\"Error accessing directory: {directory} - {e}\")\n",
    "    return total_lines\n",
    "\n",
    "directory_path = 'D:/WTPyScripts'\n",
    "# list of folders and files to exclude from the counting process\n",
    "excluded_items = ['backup', 'excel2csv.py', 'check_corrupted_files_v1.py', 'hyperlink_2_url_v1.py', 'merge_sheets_v1.py', 'merge_sheets_v2.py']\n",
    "total_lines = count_lines_in_directory(directory_path, excluded_items)\n",
    "print(f\"Total number of lines in *.py or *.java files in {directory_path}: {total_lines}\")\n"
   ]
  },
  {
   "cell_type": "code",
   "execution_count": null,
   "id": "7ed143cb-e20f-4dfe-b752-caf205b14173",
   "metadata": {},
   "outputs": [],
   "source": []
  }
 ],
 "metadata": {
  "kernelspec": {
   "display_name": "Python 3 (ipykernel)",
   "language": "python",
   "name": "python3"
  },
  "language_info": {
   "codemirror_mode": {
    "name": "ipython",
    "version": 3
   },
   "file_extension": ".py",
   "mimetype": "text/x-python",
   "name": "python",
   "nbconvert_exporter": "python",
   "pygments_lexer": "ipython3",
   "version": "3.11.9"
  }
 },
 "nbformat": 4,
 "nbformat_minor": 5
}
