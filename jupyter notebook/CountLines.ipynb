{
 "cells": [
  {
   "cell_type": "code",
   "execution_count": 11,
   "id": "53143dc6-885e-4cdd-bc66-2a727e035e2c",
   "metadata": {},
   "outputs": [
    {
     "name": "stdout",
     "output_type": "stream",
     "text": [
      "Total number of lines in *.py or *.java files in D:/WTPyScripts: 6572\n"
     ]
    }
   ],
   "source": [
    "import os\n",
    "\n",
    "# This script will traverse all subdirectories, find Python files (*.py, *.java), \n",
    "# count the number of lines in each of them, and then sum up the total number of lines. \n",
    "# Finally, it will print the total number of lines.\n",
    "\n",
    "def count_lines_in_file(filename):\n",
    "    with open(filename, 'r') as file:\n",
    "        return sum(1 for line in file)\n",
    "\n",
    "def count_lines_in_directory(directory, exclude=[]):\n",
    "    total_lines = 0\n",
    "    try:\n",
    "        for root, dirs, files in os.walk(directory):\n",
    "            if any(ex in root or ex in dirs for ex in exclude):\n",
    "                continue  # Skip this directory and its subdirectories\n",
    "            for file in files:\n",
    "                if any(ex in file for ex in exclude):\n",
    "                    continue  # Skip this file\n",
    "                if file.endswith('.py') or file.endswith('.java'):\n",
    "                    filepath = os.path.join(root, file)\n",
    "                    total_lines += count_lines_in_file(filepath)\n",
    "    except Exception as e:\n",
    "        # handle exceptions for folders that the script cannot access\n",
    "        print(f\"Error accessing directory: {directory} - {e}\")\n",
    "    return total_lines\n",
    "\n",
    "directory_path = 'D:/WTPyScripts'\n",
    "# list of folders and files to exclude from the counting process\n",
    "excluded_items = ['excel2csv.py', 'check_corrupted_files_v1.py', 'hyperlink_2_url_v1.py', 'merge_sheets_v1.py', 'merge_sheets_v2.py']\n",
    "total_lines = count_lines_in_directory(directory_path, excluded_items)\n",
    "print(f\"Total number of lines in *.py or *.java files in {directory_path}: {total_lines}\")\n"
   ]
  },
  {
   "cell_type": "code",
   "execution_count": null,
   "id": "7ed143cb-e20f-4dfe-b752-caf205b14173",
   "metadata": {},
   "outputs": [],
   "source": []
  }
 ],
 "metadata": {
  "kernelspec": {
   "display_name": "Python 3 (ipykernel)",
   "language": "python",
   "name": "python3"
  },
  "language_info": {
   "codemirror_mode": {
    "name": "ipython",
    "version": 3
   },
   "file_extension": ".py",
   "mimetype": "text/x-python",
   "name": "python",
   "nbconvert_exporter": "python",
   "pygments_lexer": "ipython3",
   "version": "3.12.0"
  }
 },
 "nbformat": 4,
 "nbformat_minor": 5
}
